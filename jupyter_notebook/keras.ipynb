{
 "cells": [
  {
   "cell_type": "code",
   "execution_count": 1,
   "metadata": {},
   "outputs": [
    {
     "name": "stderr",
     "output_type": "stream",
     "text": [
      "Using TensorFlow backend.\n"
     ]
    }
   ],
   "source": [
    "import numpy as np\n",
    "from keras import layers\n",
    "from keras.layers import Input, Add, Dense, Activation, ZeroPadding2D, BatchNormalization, Flatten, Conv2D, MaxPooling2D\n",
    "from keras.models import Model\n",
    "\n",
    "from keras.utils import to_categorical\n",
    "from keras.initializers import glorot_uniform\n",
    "\n",
    "import matplotlib.pyplot as plt\n",
    "%matplotlib inline\n",
    "\n",
    "import pandas as pd\n",
    "import keras.backend as K\n",
    "K.set_image_data_format('channels_last')\n",
    "K.set_learning_phase(1)"
   ]
  },
  {
   "cell_type": "code",
   "execution_count": 2,
   "metadata": {},
   "outputs": [
    {
     "data": {
      "text/plain": [
       "(42000, 785)"
      ]
     },
     "execution_count": 2,
     "metadata": {},
     "output_type": "execute_result"
    }
   ],
   "source": [
    "data = pd.read_csv('c:\\\\Users\\\\Vladislav.Klochkov\\\\Desktop\\\\train.csv')\n",
    "data.shape"
   ]
  },
  {
   "cell_type": "code",
   "execution_count": 3,
   "metadata": {},
   "outputs": [
    {
     "data": {
      "text/plain": [
       "((39000, 785), (3000, 785))"
      ]
     },
     "execution_count": 3,
     "metadata": {},
     "output_type": "execute_result"
    }
   ],
   "source": [
    "train = data[:39000]\n",
    "dev = data[39000:]\n",
    "train.shape, dev.shape"
   ]
  },
  {
   "cell_type": "code",
   "execution_count": 4,
   "metadata": {},
   "outputs": [
    {
     "name": "stderr",
     "output_type": "stream",
     "text": [
      "C:\\Users\\Vladislav.Klochkov\\AppData\\Local\\Continuum\\anaconda3\\envs\\py36\\lib\\site-packages\\ipykernel_launcher.py:1: FutureWarning: Method .as_matrix will be removed in a future version. Use .values instead.\n",
      "  \"\"\"Entry point for launching an IPython kernel.\n",
      "C:\\Users\\Vladislav.Klochkov\\AppData\\Local\\Continuum\\anaconda3\\envs\\py36\\lib\\site-packages\\ipykernel_launcher.py:2: FutureWarning: Method .as_matrix will be removed in a future version. Use .values instead.\n",
      "  \n"
     ]
    },
    {
     "data": {
      "text/plain": [
       "((39000, 785), (3000, 785))"
      ]
     },
     "execution_count": 4,
     "metadata": {},
     "output_type": "execute_result"
    }
   ],
   "source": [
    "train = train.as_matrix()\n",
    "dev = dev.as_matrix()\n",
    "train.shape, dev.shape"
   ]
  },
  {
   "cell_type": "code",
   "execution_count": 5,
   "metadata": {},
   "outputs": [],
   "source": [
    "def give_data(set):\n",
    "    Y = set[:,0]\n",
    "    Y = to_categorical(Y, num_classes=10)\n",
    "    X = set[:,1:].reshape((set.shape[0],28,28,1))/255.\n",
    "    return X,Y"
   ]
  },
  {
   "cell_type": "code",
   "execution_count": 6,
   "metadata": {},
   "outputs": [
    {
     "data": {
      "text/plain": [
       "((3000, 28, 28, 1), (3000, 10))"
      ]
     },
     "execution_count": 6,
     "metadata": {},
     "output_type": "execute_result"
    }
   ],
   "source": [
    "X_dev, Y_dev = give_data(dev)\n",
    "X_dev.shape, Y_dev.shape"
   ]
  },
  {
   "cell_type": "code",
   "execution_count": 7,
   "metadata": {},
   "outputs": [
    {
     "data": {
      "text/plain": [
       "((39000, 28, 28, 1), (39000, 10))"
      ]
     },
     "execution_count": 7,
     "metadata": {},
     "output_type": "execute_result"
    }
   ],
   "source": [
    "X_train, Y_train = give_data(train)\n",
    "X_train.shape, Y_train.shape"
   ]
  },
  {
   "cell_type": "code",
   "execution_count": 8,
   "metadata": {},
   "outputs": [],
   "source": [
    "def LeNet5(input_shape = (28,28,1), classes = 10):\n",
    "    X_input = Input(input_shape)\n",
    "    \n",
    "    X = ZeroPadding2D((1,1))(X_input)\n",
    "    X = Conv2D(8, (3,3), name='Conv1')(X)\n",
    "    X = BatchNormalization(axis=3, name='BatchNorm1')(X)\n",
    "    X = MaxPooling2D(strides=(2,2), name='MaxPool1')(X)\n",
    "    X = Conv2D(16, (5,5), name='Conv2')(X) \n",
    "    X = MaxPooling2D(strides=(2,2), name='MaxPool2')(X)\n",
    "    X = Flatten()(X)\n",
    "    X = Dense(120, activation='relu', name='fc1')(X)\n",
    "    X = Dense(84 , activation='relu', name='fc2')(X)\n",
    "    \n",
    "    X = Dense(classes, activation='softmax', name='final_layer')(X)\n",
    "    \n",
    "    model = Model(inputs=X_input, outputs=X, name='LeNet5')\n",
    "    \n",
    "    return model\n"
   ]
  },
  {
   "cell_type": "code",
   "execution_count": 9,
   "metadata": {},
   "outputs": [],
   "source": [
    "model = LeNet5()"
   ]
  },
  {
   "cell_type": "code",
   "execution_count": 10,
   "metadata": {},
   "outputs": [],
   "source": [
    "model.compile(optimizer='adam', loss='categorical_crossentropy', metrics=[\"accuracy\"])"
   ]
  },
  {
   "cell_type": "code",
   "execution_count": 11,
   "metadata": {
    "scrolled": false
   },
   "outputs": [
    {
     "name": "stdout",
     "output_type": "stream",
     "text": [
      "Train on 39000 samples, validate on 3000 samples\n",
      "Epoch 1/30\n",
      "39000/39000 [==============================] - 31s 804us/step - loss: 0.2254 - acc: 0.9304 - val_loss: 0.1180 - val_acc: 0.9687\n",
      "Epoch 2/30\n",
      "39000/39000 [==============================] - 31s 791us/step - loss: 0.0711 - acc: 0.9777 - val_loss: 0.0662 - val_acc: 0.9787\n",
      "Epoch 3/30\n",
      "39000/39000 [==============================] - 31s 803us/step - loss: 0.0463 - acc: 0.9852 - val_loss: 0.0581 - val_acc: 0.9830\n",
      "Epoch 4/30\n",
      "39000/39000 [==============================] - 31s 795us/step - loss: 0.0356 - acc: 0.9880 - val_loss: 0.0573 - val_acc: 0.9793\n",
      "Epoch 5/30\n",
      "39000/39000 [==============================] - 29s 750us/step - loss: 0.0279 - acc: 0.9903 - val_loss: 0.0735 - val_acc: 0.9817\n",
      "Epoch 6/30\n",
      "39000/39000 [==============================] - 29s 747us/step - loss: 0.0229 - acc: 0.9922 - val_loss: 0.0931 - val_acc: 0.9763\n",
      "Epoch 7/30\n",
      "39000/39000 [==============================] - 29s 749us/step - loss: 0.0220 - acc: 0.9923 - val_loss: 0.0605 - val_acc: 0.9843\n",
      "Epoch 8/30\n",
      "39000/39000 [==============================] - 29s 751us/step - loss: 0.0136 - acc: 0.9955 - val_loss: 0.0684 - val_acc: 0.9820\n",
      "Epoch 9/30\n",
      "39000/39000 [==============================] - 29s 747us/step - loss: 0.0198 - acc: 0.9933 - val_loss: 0.0817 - val_acc: 0.9813\n",
      "Epoch 10/30\n",
      "39000/39000 [==============================] - 29s 751us/step - loss: 0.0129 - acc: 0.9958 - val_loss: 0.0720 - val_acc: 0.9863\n",
      "Epoch 11/30\n",
      "39000/39000 [==============================] - 29s 749us/step - loss: 0.0179 - acc: 0.9948 - val_loss: 0.0663 - val_acc: 0.9843\n",
      "Epoch 12/30\n",
      "39000/39000 [==============================] - 31s 797us/step - loss: 0.0095 - acc: 0.9972 - val_loss: 0.0776 - val_acc: 0.9847\n",
      "Epoch 13/30\n",
      "39000/39000 [==============================] - 29s 751us/step - loss: 0.0129 - acc: 0.9961 - val_loss: 0.0603 - val_acc: 0.9867\n",
      "Epoch 14/30\n",
      "39000/39000 [==============================] - 29s 749us/step - loss: 0.0164 - acc: 0.9950 - val_loss: 0.0677 - val_acc: 0.9840\n",
      "Epoch 15/30\n",
      "39000/39000 [==============================] - 29s 747us/step - loss: 0.0102 - acc: 0.9964 - val_loss: 0.0797 - val_acc: 0.9830\n",
      "Epoch 16/30\n",
      "39000/39000 [==============================] - 29s 748us/step - loss: 0.0095 - acc: 0.9968 - val_loss: 0.0823 - val_acc: 0.9830\n",
      "Epoch 17/30\n",
      "39000/39000 [==============================] - 29s 749us/step - loss: 0.0097 - acc: 0.9969 - val_loss: 0.0987 - val_acc: 0.9820\n",
      "Epoch 18/30\n",
      "39000/39000 [==============================] - 29s 749us/step - loss: 0.0111 - acc: 0.9963 - val_loss: 0.0734 - val_acc: 0.9860\n",
      "Epoch 19/30\n",
      "39000/39000 [==============================] - 29s 750us/step - loss: 0.0089 - acc: 0.9976 - val_loss: 0.0847 - val_acc: 0.9853\n",
      "Epoch 20/30\n",
      "39000/39000 [==============================] - 29s 748us/step - loss: 0.0104 - acc: 0.9973 - val_loss: 0.0859 - val_acc: 0.9853\n",
      "Epoch 21/30\n",
      "39000/39000 [==============================] - 29s 749us/step - loss: 0.0086 - acc: 0.9971 - val_loss: 0.0855 - val_acc: 0.9837\n",
      "Epoch 22/30\n",
      "39000/39000 [==============================] - 29s 749us/step - loss: 0.0056 - acc: 0.9982 - val_loss: 0.0871 - val_acc: 0.9850\n",
      "Epoch 23/30\n",
      "39000/39000 [==============================] - 29s 749us/step - loss: 0.0125 - acc: 0.9965 - val_loss: 0.1074 - val_acc: 0.9840\n",
      "Epoch 24/30\n",
      "39000/39000 [==============================] - 30s 778us/step - loss: 0.0094 - acc: 0.9971 - val_loss: 0.0905 - val_acc: 0.9853\n",
      "Epoch 25/30\n",
      "39000/39000 [==============================] - 30s 770us/step - loss: 0.0054 - acc: 0.9984 - val_loss: 0.0825 - val_acc: 0.9857\n",
      "Epoch 26/30\n",
      "39000/39000 [==============================] - 30s 762us/step - loss: 0.0082 - acc: 0.9979 - val_loss: 0.1195 - val_acc: 0.9827\n",
      "Epoch 27/30\n",
      "39000/39000 [==============================] - 30s 759us/step - loss: 0.0102 - acc: 0.9971 - val_loss: 0.0991 - val_acc: 0.9843\n",
      "Epoch 28/30\n",
      "39000/39000 [==============================] - 30s 762us/step - loss: 0.0057 - acc: 0.9983 - val_loss: 0.1054 - val_acc: 0.9860\n",
      "Epoch 29/30\n",
      "39000/39000 [==============================] - 30s 761us/step - loss: 0.0093 - acc: 0.9976 - val_loss: 0.1042 - val_acc: 0.9837\n",
      "Epoch 30/30\n",
      "39000/39000 [==============================] - 30s 780us/step - loss: 0.0051 - acc: 0.9986 - val_loss: 0.0748 - val_acc: 0.9877\n"
     ]
    }
   ],
   "source": [
    "track = model.fit(X_train, Y_train, batch_size=64, epochs=30, validation_data=(X_dev, Y_dev))"
   ]
  },
  {
   "cell_type": "code",
   "execution_count": 12,
   "metadata": {},
   "outputs": [],
   "source": [
    "loss = track.history[\"loss\"]\n",
    "acc = track.history[\"acc\"]\n",
    "ep = list(range(len(loss)))"
   ]
  },
  {
   "cell_type": "code",
   "execution_count": 13,
   "metadata": {},
   "outputs": [
    {
     "data": {
      "text/plain": [
       "Text(0,0.5,'loss')"
      ]
     },
     "execution_count": 13,
     "metadata": {},
     "output_type": "execute_result"
    },
    {
     "data": {
      "image/png": "[encoded data removed]",
      "text/plain": [
       "<Figure size 432x288 with 1 Axes>"
      ]
     },
     "metadata": {
      "needs_background": "light"
     },
     "output_type": "display_data"
    }
   ],
   "source": [
    "plt.plot(ep, loss)\n",
    "plt.xlabel(\"#epochs\")\n",
    "plt.ylabel(\"loss\")"
   ]
  },
  {
   "cell_type": "code",
   "execution_count": 14,
   "metadata": {},
   "outputs": [
    {
     "data": {
      "text/plain": [
       "Text(0,0.5,'accuracy')"
      ]
     },
     "execution_count": 14,
     "metadata": {},
     "output_type": "execute_result"
    },
    {
     "data": {
      "image/png": "[encoded data removed]",
      "text/plain": [
       "<Figure size 432x288 with 1 Axes>"
      ]
     },
     "metadata": {
      "needs_background": "light"
     },
     "output_type": "display_data"
    }
   ],
   "source": [
    "plt.plot(ep, acc)\n",
    "plt.xlabel(\"#epochs\")\n",
    "plt.ylabel(\"accuracy\")"
   ]
  },
  {
   "cell_type": "code",
   "execution_count": 15,
   "metadata": {
    "scrolled": false
   },
   "outputs": [
    {
     "name": "stdout",
     "output_type": "stream",
     "text": [
      "_________________________________________________________________\n",
      "Layer (type)                 Output Shape              Param #   \n",
      "=================================================================\n",
      "input_1 (InputLayer)         (None, 28, 28, 1)         0         \n",
      "_________________________________________________________________\n",
      "zero_padding2d_1 (ZeroPaddin (None, 30, 30, 1)         0         \n",
      "_________________________________________________________________\n",
      "Conv1 (Conv2D)               (None, 28, 28, 8)         80        \n",
      "_________________________________________________________________\n",
      "BatchNorm1 (BatchNormalizati (None, 28, 28, 8)         32        \n",
      "_________________________________________________________________\n",
      "MaxPool1 (MaxPooling2D)      (None, 14, 14, 8)         0         \n",
      "_________________________________________________________________\n",
      "Conv2 (Conv2D)               (None, 10, 10, 16)        3216      \n",
      "_________________________________________________________________\n",
      "MaxPool2 (MaxPooling2D)      (None, 5, 5, 16)          0         \n",
      "_________________________________________________________________\n",
      "flatten_1 (Flatten)          (None, 400)               0         \n",
      "_________________________________________________________________\n",
      "fc1 (Dense)                  (None, 120)               48120     \n",
      "_________________________________________________________________\n",
      "fc2 (Dense)                  (None, 84)                10164     \n",
      "_________________________________________________________________\n",
      "final_layer (Dense)          (None, 10)                850       \n",
      "=================================================================\n",
      "Total params: 62,462\n",
      "Trainable params: 62,446\n",
      "Non-trainable params: 16\n",
      "_________________________________________________________________\n"
     ]
    }
   ],
   "source": [
    "model.summary()"
   ]
  },
  {
   "cell_type": "code",
   "execution_count": 16,
   "metadata": {},
   "outputs": [
    {
     "name": "stderr",
     "output_type": "stream",
     "text": [
      "C:\\Users\\Vladislav.Klochkov\\AppData\\Local\\Continuum\\anaconda3\\envs\\py36\\lib\\site-packages\\ipykernel_launcher.py:2: FutureWarning: Method .as_matrix will be removed in a future version. Use .values instead.\n",
      "  \n"
     ]
    },
    {
     "data": {
      "text/plain": [
       "(28000, 784)"
      ]
     },
     "execution_count": 16,
     "metadata": {},
     "output_type": "execute_result"
    }
   ],
   "source": [
    "test = pd.read_csv(\"c:\\\\Users\\\\Vladislav.Klochkov\\\\Desktop\\\\test.csv\")\n",
    "test = test.as_matrix()\n",
    "test.shape"
   ]
  },
  {
   "cell_type": "code",
   "execution_count": 17,
   "metadata": {},
   "outputs": [
    {
     "data": {
      "text/plain": [
       "(28000, 28, 28, 1)"
      ]
     },
     "execution_count": 17,
     "metadata": {},
     "output_type": "execute_result"
    }
   ],
   "source": [
    "X_test = test.reshape((28000,28,28,1))\n",
    "X_test.shape"
   ]
  },
  {
   "cell_type": "code",
   "execution_count": 18,
   "metadata": {},
   "outputs": [
    {
     "data": {
      "text/plain": [
       "(28000, 10)"
      ]
     },
     "execution_count": 18,
     "metadata": {},
     "output_type": "execute_result"
    }
   ],
   "source": [
    "pred = model.predict(X_test)\n",
    "pred.shape"
   ]
  },
  {
   "cell_type": "code",
   "execution_count": 19,
   "metadata": {},
   "outputs": [
    {
     "data": {
      "text/plain": [
       "(28000,)"
      ]
     },
     "execution_count": 19,
     "metadata": {},
     "output_type": "execute_result"
    }
   ],
   "source": [
    "res = pred.argmax(axis=1)\n",
    "res.shape"
   ]
  },
  {
   "cell_type": "code",
   "execution_count": 21,
   "metadata": {},
   "outputs": [
    {
     "name": "stdout",
     "output_type": "stream",
     "text": [
      "Prediction : 9\n"
     ]
    },
    {
     "data": {
      "text/plain": [
       "<matplotlib.image.AxesImage at 0x108e8dd8>"
      ]
     },
     "execution_count": 21,
     "metadata": {},
     "output_type": "execute_result"
    },
    {
     "data": {
      "image/png": "[encoded data removed]",
      "text/plain": [
       "<Figure size 432x288 with 1 Axes>"
      ]
     },
     "metadata": {
      "needs_background": "light"
     },
     "output_type": "display_data"
    }
   ],
   "source": [
    "index = 3\n",
    "print(\"Prediction :\", res[index])\n",
    "plt.imshow(X_test[index].reshape((28,28)), cmap=\"gray\")"
   ]
  },
  {
   "cell_type": "code",
   "execution_count": 160,
   "metadata": {},
   "outputs": [],
   "source": [
    "import cv2"
   ]
  },
  {
   "cell_type": "code",
   "execution_count": 138,
   "metadata": {
    "scrolled": true
   },
   "outputs": [
    {
     "data": {
      "text/plain": [
       "3"
      ]
     },
     "execution_count": 138,
     "metadata": {},
     "output_type": "execute_result"
    }
   ],
   "source": [
    "arr = cv2.imread('02.png', 2)\n",
    "test_1 = arr.reshape((1,28,28,1))\n",
    "pred = model.predict(test_1)\n",
    "res = pred.argmax(axis=1)\n",
    "res[0]"
   ]
  },
  {
   "cell_type": "code",
   "execution_count": 99,
   "metadata": {},
   "outputs": [],
   "source": [
    "def write_to_submission_file(predicted_labels, out_file, train_num=0,\n",
    "                    target='Label', index_label=\"ImageId\"):\n",
    "    # turn predictions into data frame and save as csv file\n",
    "    predicted_df = pd.DataFrame(predicted_labels, \n",
    "                                index = np.arange(train_num + 1, train_num + 1 + predicted_labels.shape[0]),\n",
    "                                columns=[target])\n",
    "    predicted_df.to_csv(out_file, index_label=index_label)"
   ]
  },
  {
   "cell_type": "code",
   "execution_count": 100,
   "metadata": {},
   "outputs": [],
   "source": [
    "write_to_submission_file(res, out_file='c:\\\\Users\\\\Vladislav.Klochkov\\\\Desktop\\\\submission.csv')"
   ]
  },
  {
   "cell_type": "code",
   "execution_count": 101,
   "metadata": {},
   "outputs": [
    {
     "data": {
      "text/plain": [
       "array([2, 0, 9, ..., 3, 9, 2], dtype=int64)"
      ]
     },
     "execution_count": 101,
     "metadata": {},
     "output_type": "execute_result"
    }
   ],
   "source": [
    "res"
   ]
  },
  {
   "cell_type": "code",
   "execution_count": null,
   "metadata": {},
   "outputs": [],
   "source": []
  }
 ],
 "metadata": {
  "kernelspec": {
   "display_name": "Python 3",
   "language": "python",
   "name": "python3"
  },
  "language_info": {
   "codemirror_mode": {
    "name": "ipython",
    "version": 3
   },
   "file_extension": ".py",
   "mimetype": "text/x-python",
   "name": "python",
   "nbconvert_exporter": "python",
   "pygments_lexer": "ipython3",
   "version": "3.6.6"
  }
 },
 "nbformat": 4,
 "nbformat_minor": 2
}
